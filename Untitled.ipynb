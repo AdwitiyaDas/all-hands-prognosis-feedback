{
 "cells": [
  {
   "cell_type": "code",
   "execution_count": null,
   "id": "b0055f17",
   "metadata": {},
   "outputs": [
    {
     "name": "stderr",
     "output_type": "stream",
     "text": [
      "c:\\users\\admin\\pycharmprojects\\pythonproject\\venv\\lib\\site-packages\\snowflake\\connector\\options.py:94: UserWarning: You have an incompatible version of 'pyarrow' installed (7.0.0), please install a version that adheres to: 'pyarrow<6.1.0,>=6.0.0; extra == \"pandas\"'\n",
      "  warn_incompatible_dep(\n"
     ]
    }
   ],
   "source": [
    "import snowflake.connector\n",
    "# Gets the version\n",
    "ctx = snowflake.connector.connect(\n",
    "    user='aakanksha888',\n",
    "    password='Miniproject@2022',\n",
    "    account='ow05112.ap-south-1.aws',\n",
    "    warehouse='compute_wh',\n",
    "    database='sample_vijay',\n",
    "    schema='public',\n",
    "    )\n",
    "cs = ctx.cursor()\n",
    "try:\n",
    "    #cs.execute(\"INSERT INTO sample_python VALUES('syam',18);\") #optional\n",
    "    #cs.execute(\"DELETE from sample_python where name='syam';\") #optional\n",
    "    #cs.execute(\"INSERT INTO sample_python VALUES('syam',20);\")\n",
    "    #cs.execute(\"INSERT INTO sample_python VALUES('unika',22);\")\n",
    "    cs.execute(\"SELECT * from sample_python;\")\n",
    "    one_row = cs.fetchall()\n",
    "    print(\"Name\",\"Age\")\n",
    "    print(\"----\",\"-----\")\n",
    "    for i in one_row:\n",
    "        print(i[0],i[1])\n",
    "finally:\n",
    "    cs.close()\n",
    "ctx.close()"
   ]
  },
  {
   "cell_type": "code",
   "execution_count": null,
   "id": "148c82d8",
   "metadata": {},
   "outputs": [],
   "source": []
  }
 ],
 "metadata": {
  "kernelspec": {
   "display_name": "Python 3 (ipykernel)",
   "language": "python",
   "name": "python3"
  },
  "language_info": {
   "codemirror_mode": {
    "name": "ipython",
    "version": 3
   },
   "file_extension": ".py",
   "mimetype": "text/x-python",
   "name": "python",
   "nbconvert_exporter": "python",
   "pygments_lexer": "ipython3",
   "version": "3.9.7"
  }
 },
 "nbformat": 4,
 "nbformat_minor": 5
}
